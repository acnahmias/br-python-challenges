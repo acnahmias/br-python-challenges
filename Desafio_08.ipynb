{
 "cells": [
  {
   "cell_type": "markdown",
   "metadata": {
    "colab_type": "text",
    "id": "view-in-github"
   },
   "source": [
    "<a href=\"https://colab.research.google.com/github/acnahmias/br-python-challenges/blob/master/Desafio_08.ipynb\" target=\"_parent\"><img src=\"https://colab.research.google.com/assets/colab-badge.svg\" alt=\"Open In Colab\"/></a>"
   ]
  },
  {
   "cell_type": "markdown",
   "metadata": {
    "id": "o3tkeMDNf6Jo"
   },
   "source": [
    "### Desafio 8\n",
    "\n",
    "Escreva um script Python para encontrar as 10 palavras mais longas em um arquivo de texto.\n",
    "O arquivo .txt está localizado na mesma pasta do projeto (**texto.txt**)."
   ]
  },
  {
   "cell_type": "code",
   "execution_count": 2,
   "metadata": {
    "colab": {
     "base_uri": "https://localhost:8080/"
    },
    "id": "EknxjSG0f6Jo",
    "outputId": "b04c8ee6-dbaf-4eac-bf77-1315a0b2d5aa"
   },
   "outputs": [
    {
     "name": "stdout",
     "output_type": "stream",
     "text": [
      "['general-purpose', 'object-oriented', 'comprehensive', 'intermediate', 'readability', 'programming', 'interpreted', 'programmers', 'procedural', \"'languages\"]\n"
     ]
    }
   ],
   "source": [
    "with open(\"texto.txt\", 'r') as arq:\n",
    "  conteudo = arq.read()\n",
    "\n",
    "paragrafos = conteudo.splitlines()\n",
    "frases = str(paragrafos).split(\".\")\n",
    "palavras = str(frases).split()\n",
    "novas_palavras = {\"\"}\n",
    "for i in range(len(palavras)):\n",
    "  a = str(palavras[i])\n",
    "  b = a.strip(\",)\")\n",
    "  novas_palavras.add(b)\n",
    "\n",
    "tam_palavras = sorted(novas_palavras, key=len, reverse=True)\n",
    "\n",
    "print(tam_palavras[0:10])\n",
    "\n",
    "\n"
   ]
  },
  {
   "cell_type": "code",
   "execution_count": null,
   "metadata": {
    "id": "XJ-PXQ9A2m4h"
   },
   "outputs": [],
   "source": []
  }
 ],
 "metadata": {
  "anaconda-cloud": {},
  "colab": {
   "include_colab_link": true,
   "name": "Desafio 8.ipynb",
   "provenance": [],
   "toc_visible": true
  },
  "kernelspec": {
   "display_name": "Python 3",
   "language": "python",
   "name": "python3"
  },
  "language_info": {
   "codemirror_mode": {
    "name": "ipython",
    "version": 3
   },
   "file_extension": ".py",
   "mimetype": "text/x-python",
   "name": "python",
   "nbconvert_exporter": "python",
   "pygments_lexer": "ipython3",
   "version": "3.8.6"
  }
 },
 "nbformat": 4,
 "nbformat_minor": 1
}
