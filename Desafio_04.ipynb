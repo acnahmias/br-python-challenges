{
  "nbformat": 4,
  "nbformat_minor": 0,
  "metadata": {
    "anaconda-cloud": {},
    "colab": {
      "name": "Desafio 4.ipynb",
      "provenance": [],
      "include_colab_link": true
    },
    "kernelspec": {
      "display_name": "Python 3",
      "language": "python",
      "name": "python3"
    },
    "language_info": {
      "codemirror_mode": {
        "name": "ipython",
        "version": 3
      },
      "file_extension": ".py",
      "mimetype": "text/x-python",
      "name": "python",
      "nbconvert_exporter": "python",
      "pygments_lexer": "ipython3",
      "version": "3.7.9"
    }
  },
  "cells": [
    {
      "cell_type": "markdown",
      "metadata": {
        "id": "view-in-github",
        "colab_type": "text"
      },
      "source": [
        "<a href=\"https://colab.research.google.com/github/acnahmias/br-python-challenges/blob/master/Desafio_04.ipynb\" target=\"_parent\"><img src=\"https://colab.research.google.com/assets/colab-badge.svg\" alt=\"Open In Colab\"/></a>"
      ]
    },
    {
      "cell_type": "markdown",
      "metadata": {
        "id": "dOqcKUYZf6JW"
      },
      "source": [
        "### Desafio 4\n",
        "\n",
        "Escreva uma função cuja entrada é uma string e a saída é outra string com as palavras em ordem inversa.\n",
        "\n",
        "Exemplo:\n",
        "\n",
        "inverte_texto(\"Python é legal\") ➞ \"legal é Python\""
      ]
    },
    {
      "cell_type": "code",
      "metadata": {
        "colab": {
          "base_uri": "https://localhost:8080/",
          "height": 52
        },
        "id": "I5TInJDaf6JW",
        "outputId": "5da0b0e2-b214-4fa0-87f6-36ea36f5f178"
      },
      "source": [
        "# Seu código\n",
        "\n",
        "def inverte_texto(texto):\n",
        "  texto2 = texto.split()\n",
        "  texto3 = texto2[::-1]\n",
        "  texto4 = \"\"\n",
        "  for palavra in texto3:\n",
        "    texto4 = texto4 + \" \" + palavra\n",
        "  \n",
        "  return(texto4)\n",
        "\n",
        "\n",
        "texto = input(\"Digite um número inteiro:\")\n",
        "inverte_texto(texto)\n"
      ],
      "execution_count": 21,
      "outputs": [
        {
          "output_type": "stream",
          "text": [
            "Digite um número inteiro:bom dia galera animada\n"
          ],
          "name": "stdout"
        },
        {
          "output_type": "execute_result",
          "data": {
            "application/vnd.google.colaboratory.intrinsic+json": {
              "type": "string"
            },
            "text/plain": [
              "' animada galera dia bom'"
            ]
          },
          "metadata": {
            "tags": []
          },
          "execution_count": 21
        }
      ]
    },
    {
      "cell_type": "code",
      "metadata": {
        "id": "v-pA56NX83bg"
      },
      "source": [
        ""
      ],
      "execution_count": null,
      "outputs": []
    }
  ]
}