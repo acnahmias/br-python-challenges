{
 "cells": [
  {
   "cell_type": "markdown",
   "metadata": {
    "colab_type": "text",
    "id": "view-in-github"
   },
   "source": [
    "<a href=\"https://colab.research.google.com/github/acnahmias/br-python-challenges/blob/master/Desafio_04.ipynb\" target=\"_parent\"><img src=\"https://colab.research.google.com/assets/colab-badge.svg\" alt=\"Open In Colab\"/></a>"
   ]
  },
  {
   "cell_type": "markdown",
   "metadata": {
    "id": "dOqcKUYZf6JW"
   },
   "source": [
    "### Desafio 4\n",
    "\n",
    "Escreva uma função cuja entrada é uma string e a saída é outra string com as palavras em ordem inversa.\n",
    "\n",
    "Exemplo:\n",
    "\n",
    "inverte_texto(\"Python é legal\") ➞ \"legal é Python\""
   ]
  },
  {
   "cell_type": "code",
   "execution_count": 6,
   "metadata": {
    "colab": {
     "base_uri": "https://localhost:8080/",
     "height": 52
    },
    "id": "I5TInJDaf6JW",
    "outputId": "5d306727-407f-4a24-84a0-9254fdbdbd16"
   },
   "outputs": [
    {
     "name": "stdout",
     "output_type": "stream",
     "text": [
      "Digite uma frase para ser invertida:boa noite galera\n",
      "['galera', 'noite', 'boa']\n"
     ]
    }
   ],
   "source": [
    "# Seu código\n",
    "\n",
    "def inverte_texto():\n",
    "    frase = input(\"Digite uma frase para ser invertida:\")\n",
    "    palavras = frase.split()\n",
    "    palavras_invertidas = palavras[::-1]\n",
    "    ordem_inversa = []\n",
    "    for palavra in palavras_invertidas:\n",
    "        ordem_inversa.append(palavras_invertidas)\n",
    "        \n",
    "    print(palavras_invertidas)\n",
    "\n",
    "\n",
    "inverte_texto()\n"
   ]
  },
  {
   "cell_type": "code",
   "execution_count": null,
   "metadata": {},
   "outputs": [],
   "source": []
  }
 ],
 "metadata": {
  "anaconda-cloud": {},
  "colab": {
   "include_colab_link": true,
   "name": "Desafio 4.ipynb",
   "provenance": []
  },
  "kernelspec": {
   "display_name": "Python 3",
   "language": "python",
   "name": "python3"
  },
  "language_info": {
   "codemirror_mode": {
    "name": "ipython",
    "version": 3
   },
   "file_extension": ".py",
   "mimetype": "text/x-python",
   "name": "python",
   "nbconvert_exporter": "python",
   "pygments_lexer": "ipython3",
   "version": "3.8.6"
  }
 },
 "nbformat": 4,
 "nbformat_minor": 1
}
