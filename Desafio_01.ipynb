{
 "cells": [
  {
   "cell_type": "markdown",
   "source": [
    "![](https://i.imgur.com/YX6UATs.png)"
   ],
   "metadata": {
    "tags": [],
    "cell_id": "00000-21e200e2-2c5d-4446-be1a-f7871fd68c95",
    "deepnote_to_be_reexecuted": false,
    "source_hash": "1a24551d",
    "execution_start": 1630105480526,
    "execution_millis": 649,
    "deepnote_cell_type": "markdown"
   }
  },
  {
   "cell_type": "markdown",
   "source": [
    "### Desafio 1\n",
    "\n",
    "Escreva um programa em Python para contabilizar a quantidade de ocorrências de cada palavra."
   ],
   "metadata": {
    "id": "SbLLE9q1eldC",
    "cell_id": "00001-eeabba01-282a-49e1-b1d6-60892cb9343a",
    "deepnote_cell_type": "markdown"
   }
  },
  {
   "cell_type": "code",
   "execution_count": 1,
   "source": [
    "palavras = [\n",
    "   'red', 'green', 'black', 'pink', 'black', 'white', 'black', 'eyes',\n",
    "   'white', 'black', 'orange', 'pink', 'pink', 'red', 'red', 'white', 'orange',\n",
    "   'white', \"black\", 'pink', 'green', 'green', 'pink', 'green', 'pink',\n",
    "   'white', 'orange', \"orange\", 'red'\n",
    "]"
   ],
   "outputs": [],
   "metadata": {
    "id": "WhtbdwFseldD",
    "cell_id": "00002-ee1074e8-4062-47c6-b73f-7e4924b1a36c",
    "deepnote_to_be_reexecuted": false,
    "source_hash": "e6662948",
    "execution_start": 1630104928413,
    "execution_millis": 4,
    "deepnote_cell_type": "code"
   }
  },
  {
   "cell_type": "code",
   "execution_count": 2,
   "source": [
    "# Seu código\n",
    "import collections\n",
    "print(collections.Counter(palavras))"
   ],
   "outputs": [
    {
     "output_type": "stream",
     "name": "stdout",
     "text": [
      "Counter({'pink': 6, 'black': 5, 'white': 5, 'red': 4, 'green': 4, 'orange': 4, 'eyes': 1})\n"
     ]
    }
   ],
   "metadata": {
    "id": "do4g2o-6y92u",
    "outputId": "86784490-743a-41b1-c627-6729af42401f",
    "colab": {
     "base_uri": "https://localhost:8080/"
    },
    "cell_id": "00003-a6fb9477-7071-42df-9f16-2f7c8d3ef582",
    "deepnote_to_be_reexecuted": false,
    "source_hash": "71fcc024",
    "execution_start": 1630104930522,
    "execution_millis": 5,
    "deepnote_cell_type": "code"
   }
  }
 ],
 "nbformat": 4,
 "nbformat_minor": 2,
 "metadata": {
  "anaconda-cloud": {},
  "colab": {
   "name": "Desafio 1.ipynb",
   "provenance": [],
   "include_colab_link": true
  },
  "kernelspec": {
   "display_name": "Python 3",
   "language": "python",
   "name": "python3"
  },
  "language_info": {
   "codemirror_mode": {
    "name": "ipython",
    "version": 3
   },
   "file_extension": ".py",
   "mimetype": "text/x-python",
   "name": "python",
   "nbconvert_exporter": "python",
   "pygments_lexer": "ipython3",
   "version": "3.9.2"
  },
  "deepnote_notebook_id": "7ab7550f-dadf-4627-8d79-b24576bed48a",
  "deepnote": {},
  "deepnote_execution_queue": []
 }
}