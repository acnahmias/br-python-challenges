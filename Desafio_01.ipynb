{
  "nbformat": 4,
  "nbformat_minor": 0,
  "metadata": {
    "anaconda-cloud": {},
    "colab": {
      "name": "Desafio 1.ipynb",
      "provenance": [],
      "include_colab_link": true
    },
    "kernelspec": {
      "display_name": "Python 3",
      "language": "python",
      "name": "python3"
    },
    "language_info": {
      "codemirror_mode": {
        "name": "ipython",
        "version": 3
      },
      "file_extension": ".py",
      "mimetype": "text/x-python",
      "name": "python",
      "nbconvert_exporter": "python",
      "pygments_lexer": "ipython3",
      "version": "3.7.9"
    }
  },
  "cells": [
    {
      "cell_type": "markdown",
      "metadata": {
        "id": "view-in-github",
        "colab_type": "text"
      },
      "source": [
        "<a href=\"https://colab.research.google.com/github/acnahmias/br-python-challenges/blob/master/Desafio_01.ipynb\" target=\"_parent\"><img src=\"https://colab.research.google.com/assets/colab-badge.svg\" alt=\"Open In Colab\"/></a>"
      ]
    },
    {
      "cell_type": "markdown",
      "metadata": {
        "id": "SbLLE9q1eldC"
      },
      "source": [
        "### Desafio 1\n",
        "\n",
        "Escreva um programa em Python para contabilizar a quantidade de ocorrências de cada palavra."
      ]
    },
    {
      "cell_type": "code",
      "metadata": {
        "colab": {
          "base_uri": "https://localhost:8080/"
        },
        "id": "WhtbdwFseldD",
        "outputId": "8cc72235-14c7-4708-c21d-85c2fa5a2ea7"
      },
      "source": [
        "palavras = [\n",
        "   'red', 'green', 'black', 'pink', 'black', 'white', 'black', 'eyes',\n",
        "   'white', 'black', 'orange', 'pink', 'pink', 'red', 'red', 'white', 'orange',\n",
        "   'white', \"black\", 'pink', 'green', 'green', 'pink', 'green', 'pink',\n",
        "   'white', 'orange', \"orange\", 'red'\n",
        "]\n",
        "\n",
        "\n",
        "# Seu código\n",
        "palavras\n",
        "cores = list(dict.fromkeys(palavras))\n",
        "cores\n",
        "\n",
        "for letra in cores:\n",
        "  repeticoes = palavras.count(letra)\n",
        "  print(\"Cor \", letra, \"= \", repeticoes)\n"
      ],
      "execution_count": 8,
      "outputs": [
        {
          "output_type": "stream",
          "text": [
            "Cor  red =  4\n",
            "Cor  green =  4\n",
            "Cor  black =  5\n",
            "Cor  pink =  6\n",
            "Cor  white =  5\n",
            "Cor  eyes =  1\n",
            "Cor  orange =  4\n"
          ],
          "name": "stdout"
        }
      ]
    },
    {
      "cell_type": "code",
      "metadata": {
        "colab": {
          "base_uri": "https://localhost:8080/"
        },
        "id": "M58o1U9KfAxa",
        "outputId": "eb3aab67-6cfc-4cc4-de79-77be5bc0dbb9"
      },
      "source": [
        ""
      ],
      "execution_count": 3,
      "outputs": [
        {
          "output_type": "execute_result",
          "data": {
            "text/plain": [
              "['red',\n",
              " 'green',\n",
              " 'black',\n",
              " 'pink',\n",
              " 'black',\n",
              " 'white',\n",
              " 'black',\n",
              " 'eyes',\n",
              " 'white',\n",
              " 'black',\n",
              " 'orange',\n",
              " 'pink',\n",
              " 'pink',\n",
              " 'red',\n",
              " 'red',\n",
              " 'white',\n",
              " 'orange',\n",
              " 'white',\n",
              " 'black',\n",
              " 'pink',\n",
              " 'green',\n",
              " 'green',\n",
              " 'pink',\n",
              " 'green',\n",
              " 'pink',\n",
              " 'white',\n",
              " 'orange',\n",
              " 'orange',\n",
              " 'red']"
            ]
          },
          "metadata": {
            "tags": []
          },
          "execution_count": 3
        }
      ]
    },
    {
      "cell_type": "code",
      "metadata": {
        "id": "tLKcbX-t0Z-k"
      },
      "source": [
        ""
      ],
      "execution_count": 4,
      "outputs": []
    },
    {
      "cell_type": "code",
      "metadata": {
        "id": "KuKbc6-f0oyZ",
        "outputId": "38e2f746-a909-4749-ed81-ec70f89ae1fd",
        "colab": {
          "base_uri": "https://localhost:8080/"
        }
      },
      "source": [
        ""
      ],
      "execution_count": 5,
      "outputs": [
        {
          "output_type": "execute_result",
          "data": {
            "text/plain": [
              "['red', 'green', 'black', 'pink', 'white', 'eyes', 'orange']"
            ]
          },
          "metadata": {
            "tags": []
          },
          "execution_count": 5
        }
      ]
    },
    {
      "cell_type": "code",
      "metadata": {
        "id": "Q9c6xjCS0qBg",
        "outputId": "25c130c0-bdbf-46ea-a495-9f885d436f3e",
        "colab": {
          "base_uri": "https://localhost:8080/"
        }
      },
      "source": [
        ""
      ],
      "execution_count": 7,
      "outputs": [
        {
          "output_type": "stream",
          "text": [
            "Cor  red =  4\n",
            "Cor  green =  4\n",
            "Cor  black =  5\n",
            "Cor  pink =  6\n",
            "Cor  white =  5\n",
            "Cor  eyes =  1\n",
            "Cor  orange =  4\n"
          ],
          "name": "stdout"
        }
      ]
    },
    {
      "cell_type": "code",
      "metadata": {
        "id": "KUxbG_XM0tMQ"
      },
      "source": [
        ""
      ],
      "execution_count": null,
      "outputs": []
    }
  ]
}