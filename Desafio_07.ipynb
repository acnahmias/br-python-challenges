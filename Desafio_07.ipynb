{
 "cells": [
  {
   "cell_type": "markdown",
   "source": "![](https://i.imgur.com/YX6UATs.png)",
   "metadata": {
    "tags": [],
    "cell_id": "00000-ca39a111-7d68-4174-9f47-a1ff704936dc",
    "deepnote_cell_type": "markdown"
   }
  },
  {
   "cell_type": "markdown",
   "source": "# Desafio 7\nUm professor de universidade tem uma turma com os seguintes números de telefones:",
   "metadata": {
    "id": "gQbaWOWcW1g_",
    "cell_id": "00001-19422161-627d-40b2-8fe0-f2652c3ceb02",
    "deepnote_cell_type": "markdown"
   }
  },
  {
   "cell_type": "code",
   "metadata": {
    "colab": {
     "base_uri": "https://localhost:8080/"
    },
    "id": "T68FjcUmWear",
    "outputId": "93cce303-08d8-41b0-f74e-8b2e60b89e08",
    "cell_id": "00002-ba04c15f-b75e-4a64-ac46-754144144982",
    "deepnote_to_be_reexecuted": false,
    "source_hash": "1b817646",
    "execution_start": 1630106981490,
    "execution_millis": 1,
    "deepnote_cell_type": "code"
   },
   "source": "telefones_alunos = ['(873) 810-8267', '(633) 244-7325', '(300) 303-5462', \n                    '(938) 300-8890', '(429) 264-7427', '(737) 805-2326', \n                    '(768) 956-8497', '(941) 225-3869', '(203) 606-9463', \n                    '(294) 430-7720', '(896) 781-5087', '(397) 845-8267', \n                    '(788) 717-6858', '(419) 734-4188', '(682) 595-3278', \n                    '(835) 955-1498', '(296) 415-9944', '(897) 932-2512', \n                    '(263) 415-3893', '(822) 640-8496', '(640) 427-2597', \n                    '(856) 338-7094', '(807) 554-4076', '(641) 367-5279', \n                    '(828) 866-0696', '(727) 376-5749', '(921) 948-2244', \n                    '(964) 710-9625', '(596) 685-1242', '(403) 343-7705', \n                    '(227) 389-3685', '(264) 372-7298', '(797) 649-3653', \n                    '(374) 361-3844', '(618) 490-4228', '(987) 803-5550', \n                    '(228) 976-9699', '(757) 450-9985', '(491) 666-5367',\n                    ]\nlen(telefones_alunos)\n",
   "execution_count": 18,
   "outputs": [
    {
     "output_type": "execute_result",
     "execution_count": 18,
     "data": {
      "text/plain": "39"
     },
     "metadata": {}
    }
   ]
  },
  {
   "cell_type": "markdown",
   "source": "Ele criou um grupo do WhatsApp. No entanto, somente os seguintes números entraram no grupo.",
   "metadata": {
    "id": "ryYrStScXgZ3",
    "cell_id": "00003-05ac705b-801d-4911-8d55-dd40d3a460fc",
    "deepnote_cell_type": "markdown"
   }
  },
  {
   "cell_type": "code",
   "metadata": {
    "colab": {
     "base_uri": "https://localhost:8080/"
    },
    "id": "0Hxk13ciXZ3h",
    "outputId": "ab047c5a-7b3c-418c-c665-46594303333d",
    "cell_id": "00004-e76738fd-acaf-4bdb-a417-76211baa8cc6",
    "deepnote_to_be_reexecuted": false,
    "source_hash": "6bf91c1b",
    "execution_start": 1630106982572,
    "execution_millis": 4,
    "deepnote_cell_type": "code"
   },
   "source": "entraram_no_grupo = ['(596) 685-1242', '(727) 376-5749', '(987) 803-5550', \n                     '(633) 244-7325', '(828) 866-0696', '(263) 415-3893', \n                     '(203) 606-9463', '(296) 415-9944', '(419) 734-4188', \n                     '(618) 490-4228', '(682) 595-3278', '(938) 300-8890', \n                     '(264) 372-7298', '(768) 956-8497', '(737) 805-2326', \n                     '(788) 717-6858', '(228) 976-9699', '(896) 781-5087',\n                     '(374) 361-3844', '(921) 948-2244', '(807) 554-4076', \n                     '(822) 640-8496', '(227) 389-3685', '(429) 264-7427', \n                     '(397) 845-8267']\nlen(entraram_no_grupo)\n",
   "execution_count": 19,
   "outputs": [
    {
     "output_type": "execute_result",
     "execution_count": 19,
     "data": {
      "text/plain": "25"
     },
     "metadata": {}
    }
   ]
  },
  {
   "cell_type": "markdown",
   "source": "Você seria capaz de criar uma lista dos alunos que ainda não entraram no grupo para que sejam contatados individualmente?",
   "metadata": {
    "id": "-inLXlaxoWnC",
    "cell_id": "00005-7547f58d-c8e5-4403-bbba-1c5bc55b9485",
    "deepnote_cell_type": "markdown"
   }
  },
  {
   "cell_type": "code",
   "metadata": {
    "cell_id": "00007-163e0b36-a66c-410b-b215-0aeaefb24600",
    "deepnote_to_be_reexecuted": false,
    "source_hash": "7afd2f33",
    "execution_start": 1630106983887,
    "execution_millis": 6,
    "deepnote_cell_type": "code"
   },
   "source": "#Seu código.\nfor x in entraram_no_grupo:\n    nao_entraram = list(telefones_alunos or entraram_no_grupo) \n\nprint(len(nao_entraram))\nprint(nao_entraram)\n",
   "execution_count": 20,
   "outputs": [
    {
     "name": "stdout",
     "text": "39\n['(873) 810-8267', '(633) 244-7325', '(300) 303-5462', '(938) 300-8890', '(429) 264-7427', '(737) 805-2326', '(768) 956-8497', '(941) 225-3869', '(203) 606-9463', '(294) 430-7720', '(896) 781-5087', '(397) 845-8267', '(788) 717-6858', '(419) 734-4188', '(682) 595-3278', '(835) 955-1498', '(296) 415-9944', '(897) 932-2512', '(263) 415-3893', '(822) 640-8496', '(640) 427-2597', '(856) 338-7094', '(807) 554-4076', '(641) 367-5279', '(828) 866-0696', '(727) 376-5749', '(921) 948-2244', '(964) 710-9625', '(596) 685-1242', '(403) 343-7705', '(227) 389-3685', '(264) 372-7298', '(797) 649-3653', '(374) 361-3844', '(618) 490-4228', '(987) 803-5550', '(228) 976-9699', '(757) 450-9985', '(491) 666-5367']\n",
     "output_type": "stream"
    }
   ]
  },
  {
   "cell_type": "code",
   "source": "",
   "metadata": {
    "tags": [],
    "cell_id": "00008-5c291505-01a1-45ad-afc6-b7aa4bbcc322",
    "deepnote_cell_type": "code"
   },
   "outputs": [],
   "execution_count": null
  },
  {
   "cell_type": "markdown",
   "source": "<a style='text-decoration:none;line-height:16px;display:flex;color:#5B5B62;padding:10px;justify-content:end;' href='https://deepnote.com?utm_source=created-in-deepnote-cell&projectId=40d88037-107b-4824-ae70-41c1ed6d42fb' target=\"_blank\">\n<img alt='Created in deepnote.com' style='display:inline;max-height:16px;margin:0px;margin-right:7.5px;' src='data:image/svg+xml;base64,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' > </img>\nCreated in <span style='font-weight:600;margin-left:4px;'>Deepnote</span></a>",
   "metadata": {
    "tags": [],
    "created_in_deepnote_cell": true,
    "deepnote_cell_type": "markdown"
   }
  }
 ],
 "nbformat": 4,
 "nbformat_minor": 1,
 "metadata": {
  "colab": {
   "include_colab_link": true,
   "name": "Desafio 7.ipynb",
   "provenance": []
  },
  "kernelspec": {
   "display_name": "Python 3",
   "language": "python",
   "name": "python3"
  },
  "language_info": {
   "codemirror_mode": {
    "name": "ipython",
    "version": 3
   },
   "file_extension": ".py",
   "mimetype": "text/x-python",
   "name": "python",
   "nbconvert_exporter": "python",
   "pygments_lexer": "ipython3",
   "version": "3.9.2"
  },
  "deepnote_notebook_id": "9960f0f9-696c-44d7-89c2-763f0bc627c0",
  "deepnote": {},
  "deepnote_execution_queue": []
 }
}